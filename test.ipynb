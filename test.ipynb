{
 "cells": [
  {
   "cell_type": "code",
   "execution_count": 18,
   "source": [
    "from utils import *\n",
    "from analysis import *\n",
    "import pandas as pd"
   ],
   "outputs": [],
   "metadata": {}
  },
  {
   "cell_type": "code",
   "execution_count": 20,
   "source": [
    "p2 = Subject(\"p2\")"
   ],
   "outputs": [],
   "metadata": {}
  },
  {
   "cell_type": "code",
   "execution_count": 23,
   "source": [
    "f = p2.dirs['source_loc'] / \"LH_geodesic_normalizedCounts_within45_max10_cluster1.csv\"\n",
    "parc2prop_KEY = pd.read_csv(f)\n",
    "parc2prop_KEY.set_index(\"parcNumber\", inplace=True)"
   ],
   "outputs": [],
   "metadata": {}
  },
  {
   "cell_type": "code",
   "execution_count": 30,
   "source": [
    "fig, _ = plot_parc2prop_histogram(parc2prop_KEY, \"LH\")\n",
    "fig.savefig(\"TEST.png\", bbox_inches=\"tight\", dpi=300)\n",
    "plt.close(fig)"
   ],
   "outputs": [],
   "metadata": {}
  }
 ],
 "metadata": {
  "orig_nbformat": 4,
  "language_info": {
   "name": "python",
   "version": "3.8.12",
   "mimetype": "text/x-python",
   "codemirror_mode": {
    "name": "ipython",
    "version": 3
   },
   "pygments_lexer": "ipython3",
   "nbconvert_exporter": "python",
   "file_extension": ".py"
  },
  "kernelspec": {
   "name": "python3",
   "display_name": "Python 3.8.12 64-bit ('base': conda)"
  },
  "interpreter": {
   "hash": "9323dd4671ddae576f982b82719ab472c93192eeadd9d0ac07899551bbdd1309"
  }
 },
 "nbformat": 4,
 "nbformat_minor": 2
}
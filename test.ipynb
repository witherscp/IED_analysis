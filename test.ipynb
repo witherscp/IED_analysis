{
 "cells": [
  {
   "cell_type": "code",
   "execution_count": 1,
   "source": [
    "from pathlib import Path\n",
    "\n",
    "import pandas as pd\n",
    "\n",
    "from utils import *\n",
    "from analysis import *\n",
    "\n",
    "neu_dir = Path(\"/Volumes/shares/NEU\")\n",
    "analysis_dir = neu_dir / \"Users/price/ied_analysis\""
   ],
   "outputs": [],
   "metadata": {}
  },
  {
   "cell_type": "code",
   "execution_count": 4,
   "source": [
    "all_sources_dict = {'subj': [],\n",
    "                    'engelClass': [],\n",
    "                    'cluster': [],\n",
    "                    'parcel': [],\n",
    "                    'propExplained': [],\n",
    "                    'propResected': []\n",
    "                    }\n",
    "one_source_dict = {'subj': [], \n",
    "                   'engelClass': [],\n",
    "                   'cluster': [],\n",
    "                   'parcel': [],\n",
    "                   'propExplained': [],\n",
    "                   'propResected': []\n",
    "                   }\n",
    "\n",
    "fpath = analysis_dir / \"ied_bad_clusters.csv\"\n",
    "subjs = pd.read_csv(fpath)['subject'].unique()\n",
    "for subj in subjs:\n",
    "    \n",
    "    # instantiate subject object\n",
    "    subject = Subject(subj)\n",
    "    \n",
    "    if subject.engel_class in [\"no_resection\",\"no_outcome\",\"deceased\"]:\n",
    "        continue\n",
    "    \n",
    "    for cluster, source_set in subject.valid_sources_all.items():\n",
    "        for source in source_set:\n",
    "            \n",
    "            # calculate propExplained\n",
    "            prop = subject.fetch_normalized_parc2prop_df(cluster).iloc[source - 1][0]\n",
    "            \n",
    "            # calculate resected prop\n",
    "            resected = subject.compute_resected_prop(source)\n",
    "            \n",
    "            all_sources_dict['subj'].append(subject.subj)\n",
    "            all_sources_dict['engelClass'].append(subject.engel_class)\n",
    "            all_sources_dict['cluster'].append(cluster)\n",
    "            all_sources_dict['parcel'].append(source)\n",
    "            all_sources_dict['propExplained'].append(prop)\n",
    "            all_sources_dict['propResected'].append(resected)\n",
    "        \n",
    "        source = list(subject.valid_sources_one[cluster])\n",
    "        \n",
    "        if len(source) > 0:\n",
    "            #calculate propExplained\n",
    "            prop = subject.fetch_normalized_parc2prop_df(cluster).iloc[source[0] - 1][0]\n",
    "            \n",
    "            # calculate resected prop\n",
    "            resected = subject.compute_resected_prop(source[0])\n",
    "            \n",
    "            one_source_dict['subj'].append(subject.subj)\n",
    "            one_source_dict['cluster'].append(cluster)\n",
    "            one_source_dict['engelClass'].append(subject.engel_class)\n",
    "            one_source_dict['parcel'].append(source[0])\n",
    "            one_source_dict['propExplained'].append(prop)\n",
    "            one_source_dict['propResected'].append(resected)\n",
    "    "
   ],
   "outputs": [],
   "metadata": {}
  },
  {
   "cell_type": "code",
   "execution_count": 5,
   "source": [
    "df = pd.DataFrame.from_dict(all_sources_dict)\n",
    "df.to_csv((analysis_dir / \"Schaefer_600P_17N/all_sources_results.csv\"), index=False)\n",
    "\n",
    "df = pd.DataFrame.from_dict(one_source_dict)\n",
    "df.to_csv((analysis_dir / \"Schaefer_600P_17N/one_source_results.csv\"), index=False)"
   ],
   "outputs": [],
   "metadata": {}
  }
 ],
 "metadata": {
  "orig_nbformat": 4,
  "language_info": {
   "name": "python",
   "version": "3.8.12",
   "mimetype": "text/x-python",
   "codemirror_mode": {
    "name": "ipython",
    "version": 3
   },
   "pygments_lexer": "ipython3",
   "nbconvert_exporter": "python",
   "file_extension": ".py"
  },
  "kernelspec": {
   "name": "python3",
   "display_name": "Python 3.8.12 64-bit ('anaconda3': virtualenv)"
  },
  "interpreter": {
   "hash": "9323dd4671ddae576f982b82719ab472c93192eeadd9d0ac07899551bbdd1309"
  }
 },
 "nbformat": 4,
 "nbformat_minor": 2
}
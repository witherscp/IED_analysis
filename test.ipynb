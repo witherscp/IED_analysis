{
 "cells": [
  {
   "cell_type": "code",
   "execution_count": 7,
   "source": [
    "from utils.subject import Subject\n",
    "from utils.helpers import *"
   ],
   "outputs": [],
   "metadata": {}
  },
  {
   "cell_type": "code",
   "execution_count": 6,
   "source": [
    "p1 = Subject(\"p1\")"
   ],
   "outputs": [],
   "metadata": {}
  },
  {
   "cell_type": "code",
   "execution_count": 12,
   "source": [
    "elecs, delays = p1.fetch_sequences(cluster=1)\n",
    "get_frequent_seqs(elecs, n_members=5, ordered=True)"
   ],
   "outputs": [
    {
     "output_type": "execute_result",
     "data": {
      "text/plain": [
       "{('RPTD1', 'AST2', 'TT2', 'AST1', 'TT3'): 77}"
      ]
     },
     "metadata": {},
     "execution_count": 12
    }
   ],
   "metadata": {}
  }
 ],
 "metadata": {
  "orig_nbformat": 4,
  "language_info": {
   "name": "python",
   "version": "3.8.12",
   "mimetype": "text/x-python",
   "codemirror_mode": {
    "name": "ipython",
    "version": 3
   },
   "pygments_lexer": "ipython3",
   "nbconvert_exporter": "python",
   "file_extension": ".py"
  },
  "kernelspec": {
   "name": "python3",
   "display_name": "Python 3.8.12 64-bit ('base': conda)"
  },
  "interpreter": {
   "hash": "9323dd4671ddae576f982b82719ab472c93192eeadd9d0ac07899551bbdd1309"
  }
 },
 "nbformat": 4,
 "nbformat_minor": 2
}